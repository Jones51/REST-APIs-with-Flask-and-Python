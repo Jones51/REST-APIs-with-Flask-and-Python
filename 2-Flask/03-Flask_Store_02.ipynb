{
 "cells": [
  {
   "cell_type": "code",
   "execution_count": 1,
   "metadata": {},
   "outputs": [],
   "source": [
    "from flask import Flask, jsonify, request, render_template"
   ]
  },
  {
   "cell_type": "code",
   "execution_count": 2,
   "metadata": {},
   "outputs": [],
   "source": [
    "app = Flask(__name__)"
   ]
  },
  {
   "cell_type": "code",
   "execution_count": 3,
   "metadata": {},
   "outputs": [],
   "source": [
    "stores = [\n",
    "    {\n",
    "        'name': 'My Store',\n",
    "        'items': [\n",
    "            {\n",
    "                'name': 'My item',\n",
    "                'price': 15.99\n",
    "            }\n",
    "        ]\n",
    "    }\n",
    "]"
   ]
  },
  {
   "cell_type": "code",
   "execution_count": 4,
   "metadata": {},
   "outputs": [],
   "source": [
    "@app.route('/')\n",
    "def home():\n",
    "    return render_template('index.html')"
   ]
  },
  {
   "cell_type": "code",
   "execution_count": 5,
   "metadata": {},
   "outputs": [],
   "source": [
    "#POST - Used to receive data\n",
    "#GET - Used to send data back only"
   ]
  },
  {
   "cell_type": "code",
   "execution_count": 6,
   "metadata": {},
   "outputs": [],
   "source": [
    "#POST /store data: {name:}\n",
    "@app.route('/store', methods= ['POST'])\n",
    "def create_store():\n",
    "    request_data = request.get_json()\n",
    "    new_store = {\n",
    "        'name':request_data['name'],\n",
    "        'items': []\n",
    "    }\n",
    "    stores.append(new_store)\n",
    "    return jsonify(new_store)\n",
    "\n",
    "#GET /store/<string:name>\n",
    "@app.route('/store/<string:name>') #http://127.0.0.1:5000/store/store_name\n",
    "def get_store(name):\n",
    "  for store in stores:\n",
    "    if store['name'] == name:\n",
    "          return jsonify(store)\n",
    "  return jsonify ({'message': 'store not found'})\n",
    "\n",
    "#GET /store\n",
    "@app.route('/store') \n",
    "def get_stores():\n",
    "    #Getting the store list and turning it into a dictionary\n",
    "    return jsonify({'store': stores})\n",
    "\n",
    "#POST /store/<string:name>/item {name: price:}\n",
    "@app.route('/store/<string:name>/item', methods= ['POST'])\n",
    "def create_item_in_store(name):\n",
    "    request_data = request.get_json()\n",
    "    for store in stores:\n",
    "        if store['name'] == name:\n",
    "            new_item = {\n",
    "                'name': request_data['name'],\n",
    "                'price': request_data['price']\n",
    "            }\n",
    "            store['items'].append(new_item)\n",
    "            return jsonify(new_item)\n",
    "    return jsonify({'message': 'Store not found'})\n",
    "\n",
    "#GET /store/<string:name>/item\n",
    "@app.route('/store/<string:name>/item') #http://127.0.0.1:5000/store/store_name/item\n",
    "def get_items_in_store(name):\n",
    "    #iterate if the item matchs, if so, return\n",
    "    #if not, returns an error message\n",
    "    for store in stores:\n",
    "        if store['name'] == name:\n",
    "            return jsonify({'items': store['items']})\n",
    "    \n",
    "    return jsonify({'message': 'Store not found'})\n"
   ]
  },
  {
   "cell_type": "code",
   "execution_count": 7,
   "metadata": {},
   "outputs": [
    {
     "name": "stdout",
     "output_type": "stream",
     "text": [
      " * Serving Flask app '__main__'\n",
      " * Debug mode: off\n"
     ]
    },
    {
     "name": "stderr",
     "output_type": "stream",
     "text": [
      "WARNING: This is a development server. Do not use it in a production deployment. Use a production WSGI server instead.\n",
      " * Running on http://127.0.0.1:5000\n",
      "Press CTRL+C to quit\n",
      "127.0.0.1 - - [17/Aug/2022 10:22:42] \"POST /store HTTP/1.1\" 200 -\n",
      "127.0.0.1 - - [17/Aug/2022 10:23:11] \"GET /store HTTP/1.1\" 200 -\n",
      "127.0.0.1 - - [17/Aug/2022 10:24:07] \"POST /store/My%20Store/item HTTP/1.1\" 200 -\n",
      "127.0.0.1 - - [17/Aug/2022 10:24:11] \"GET /store HTTP/1.1\" 200 -\n"
     ]
    }
   ],
   "source": [
    "app.run(port=5000)"
   ]
  },
  {
   "cell_type": "code",
   "execution_count": null,
   "metadata": {},
   "outputs": [],
   "source": []
  }
 ],
 "metadata": {
  "kernelspec": {
   "display_name": "Python 3.10.6 64-bit",
   "language": "python",
   "name": "python3"
  },
  "language_info": {
   "codemirror_mode": {
    "name": "ipython",
    "version": 3
   },
   "file_extension": ".py",
   "mimetype": "text/x-python",
   "name": "python",
   "nbconvert_exporter": "python",
   "pygments_lexer": "ipython3",
   "version": "3.10.6"
  },
  "orig_nbformat": 4,
  "vscode": {
   "interpreter": {
    "hash": "6263b571496add2af732bbb221f0b4aa96ade623464fd86a3add01e1c83d94c5"
   }
  }
 },
 "nbformat": 4,
 "nbformat_minor": 2
}
